{
 "cells": [
  {
   "cell_type": "markdown",
   "id": "2a713bac",
   "metadata": {},
   "source": [
    "Accessing FED API:\n",
    "https://fiscaldata.treasury.gov/datasets/average-interest-rates-treasury-securities/average-interest-rates-on-u-s-treasury-securities"
   ]
  },
  {
   "cell_type": "code",
   "execution_count": 106,
   "id": "2f6fbb99",
   "metadata": {},
   "outputs": [],
   "source": [
    "import requests, json\n",
    "import pandas as pd\n",
    "from pandas import json_normalize"
   ]
  },
  {
   "cell_type": "code",
   "execution_count": 107,
   "id": "0c23784e",
   "metadata": {},
   "outputs": [],
   "source": [
    "# link to the dataset \n",
    "url = 'https://api.fiscaldata.treasury.gov/services/api/fiscal_service/v2/accounting/od/avg_interest_rates'"
   ]
  },
  {
   "cell_type": "code",
   "execution_count": 108,
   "id": "f90b6261",
   "metadata": {},
   "outputs": [],
   "source": [
    "def get_data(url):\n",
    "    res = requests.get(url)\n",
    "    response = json.loads(res.text)\n",
    "\n",
    "    return response"
   ]
  },
  {
   "cell_type": "code",
   "execution_count": 109,
   "id": "69b1c050",
   "metadata": {},
   "outputs": [],
   "source": [
    "def output_data(url):\n",
    "    \n",
    "    passed_url = url\n",
    "\n",
    "    # empty df that will be returned with the results\n",
    "    df = pd.DataFrame(columns=response['meta']['labels'].keys())\n",
    "    \n",
    "    # starting page number\n",
    "    page_num = 1\n",
    "    \n",
    "    # maximum number of pages\n",
    "    max_page = get_data(passed_url)['meta']['total-pages']\n",
    "    \n",
    "    while page_num <= max_page:\n",
    "\n",
    "        # this will create a url with a new page number so that we can access all pages\n",
    "        url = passed_url + '?' + f'&page%5Bnumber%5D={page_num}&page%5Bsize%5D=100'\n",
    "\n",
    "        data = get_data(url)['data']\n",
    "        _df = json_normalize(data)\n",
    "        df = pd.concat([df, _df], axis=0, ignore_index=True)\n",
    "\n",
    "        page_num += 1\n",
    "\n",
    "    return df"
   ]
  },
  {
   "cell_type": "code",
   "execution_count": 110,
   "id": "d8ac1e88",
   "metadata": {
    "scrolled": true
   },
   "outputs": [],
   "source": [
    "df = output_data(url)"
   ]
  },
  {
   "cell_type": "code",
   "execution_count": 114,
   "id": "08124a75",
   "metadata": {
    "scrolled": true
   },
   "outputs": [],
   "source": [
    "df.to_csv('FED_securities.csv')"
   ]
  }
 ],
 "metadata": {
  "kernelspec": {
   "display_name": "Python 3",
   "language": "python",
   "name": "python3"
  },
  "language_info": {
   "codemirror_mode": {
    "name": "ipython",
    "version": 3
   },
   "file_extension": ".py",
   "mimetype": "text/x-python",
   "name": "python",
   "nbconvert_exporter": "python",
   "pygments_lexer": "ipython3",
   "version": "3.8.8"
  }
 },
 "nbformat": 4,
 "nbformat_minor": 5
}
